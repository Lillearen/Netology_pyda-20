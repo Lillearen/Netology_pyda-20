{
 "cells": [
  {
   "cell_type": "code",
   "execution_count": 3,
   "id": "a45aab03",
   "metadata": {},
   "outputs": [],
   "source": [
    "queries = [\n",
    "    'смотреть сериалы онлайн',\n",
    "    'новости спорта',\n",
    "    'афиша кино',\n",
    "    'курс доллара',\n",
    "    'сериалы этим летом',\n",
    "    'курс по питону',\n",
    "    'сериалы про спорт'\n",
    "]"
   ]
  },
  {
   "cell_type": "code",
   "execution_count": 26,
   "id": "66029558",
   "metadata": {},
   "outputs": [],
   "source": [
    "amount = {}\n",
    "for quer in queries:\n",
    "    if len(quer.split(sep=' ')) not in amount:\n",
    "        amount[len(quer.split(sep=' '))] = 1\n",
    "    else:\n",
    "        amount[len(quer.split(sep=' '))] += 1"
   ]
  },
  {
   "cell_type": "code",
   "execution_count": 40,
   "id": "ff714254",
   "metadata": {},
   "outputs": [
    {
     "name": "stdout",
     "output_type": "stream",
     "text": [
      "Поисковых запросов, содержащих 2 слов(а): 42.86%\n",
      "Поисковых запросов, содержащих 3 слов(а): 57.14%\n"
     ]
    }
   ],
   "source": [
    "for a in sorted(amount.keys()):\n",
    "    print('Поисковых запросов, содержащих', a, 'слов(а):',\n",
    "          str(round((amount[a]/len(queries))*100, 2)) + '%')"
   ]
  }
 ],
 "metadata": {
  "kernelspec": {
   "display_name": "Python 3",
   "language": "python",
   "name": "python3"
  },
  "language_info": {
   "codemirror_mode": {
    "name": "ipython",
    "version": 3
   },
   "file_extension": ".py",
   "mimetype": "text/x-python",
   "name": "python",
   "nbconvert_exporter": "python",
   "pygments_lexer": "ipython3",
   "version": "3.9.4"
  }
 },
 "nbformat": 4,
 "nbformat_minor": 5
}
