{
 "cells": [
  {
   "cell_type": "code",
   "execution_count": 1,
   "id": "06ca4f58",
   "metadata": {},
   "outputs": [],
   "source": [
    "ids = {'user1': [213, 213, 213, 15, 213], \n",
    "       'user2': [54, 54, 119, 119, 119], \n",
    "       'user3': [213, 98, 98, 35]}"
   ]
  },
  {
   "cell_type": "code",
   "execution_count": 9,
   "id": "53dca04f",
   "metadata": {},
   "outputs": [],
   "source": [
    "listfinal = []\n",
    "for user in ids:\n",
    "    for i in ids[user]:\n",
    "        if i not in listfinal:\n",
    "            listfinal.append(i)"
   ]
  },
  {
   "cell_type": "code",
   "execution_count": 11,
   "id": "93e28d5a",
   "metadata": {},
   "outputs": [
    {
     "data": {
      "text/plain": [
       "[213, 15, 54, 119, 98, 35]"
      ]
     },
     "execution_count": 11,
     "metadata": {},
     "output_type": "execute_result"
    }
   ],
   "source": [
    "listfinal"
   ]
  }
 ],
 "metadata": {
  "kernelspec": {
   "display_name": "Python 3",
   "language": "python",
   "name": "python3"
  },
  "language_info": {
   "codemirror_mode": {
    "name": "ipython",
    "version": 3
   },
   "file_extension": ".py",
   "mimetype": "text/x-python",
   "name": "python",
   "nbconvert_exporter": "python",
   "pygments_lexer": "ipython3",
   "version": "3.9.4"
  }
 },
 "nbformat": 4,
 "nbformat_minor": 5
}
