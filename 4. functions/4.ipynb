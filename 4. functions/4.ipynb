{
 "cells": [
  {
   "cell_type": "code",
   "execution_count": 68,
   "id": "e4068b92",
   "metadata": {},
   "outputs": [],
   "source": [
    "documents = [\n",
    " {'type': 'passport', 'number': '2207 876234', 'name': 'Василий Гупкин'},\n",
    " {'type': 'invoice', 'number': '11-2', 'name': 'Геннадий Покемонов'},\n",
    " {'type': 'insurance', 'number': '10006', 'name': 'Аристарх Павлов'}\n",
    "]"
   ]
  },
  {
   "cell_type": "code",
   "execution_count": 69,
   "id": "3558b70f",
   "metadata": {},
   "outputs": [],
   "source": [
    "directories = {\n",
    " '1': ['2207 876234', '11-2'],\n",
    " '2': ['10006'],\n",
    " '3': []\n",
    "}"
   ]
  },
  {
   "cell_type": "code",
   "execution_count": 70,
   "id": "735e4ca6",
   "metadata": {},
   "outputs": [],
   "source": [
    "def user (number):\n",
    "    for doc in documents:\n",
    "        if doc['number'] == number:\n",
    "            return doc['name']"
   ]
  },
  {
   "cell_type": "code",
   "execution_count": 71,
   "id": "070be0b3",
   "metadata": {},
   "outputs": [],
   "source": [
    "def shelf (number):\n",
    "    for shelf in directories:\n",
    "        if number in directories[shelf]:\n",
    "            return shelf"
   ]
  },
  {
   "cell_type": "code",
   "execution_count": 72,
   "id": "bc258fde",
   "metadata": {},
   "outputs": [],
   "source": [
    "def info ():\n",
    "    for doc in documents:\n",
    "        print('№:', doc['number'] +',', 'тип:', doc['type'] +',',\n",
    "              'владелец:', doc['name'] +',', 'полка хранения:', shelf(doc['number']))"
   ]
  },
  {
   "cell_type": "code",
   "execution_count": 73,
   "id": "1bf1db4c",
   "metadata": {},
   "outputs": [],
   "source": [
    "def new_shelf (number):\n",
    "    if number not in directories.keys():\n",
    "        directories[number] = []\n",
    "        print('Полка добавлена.', end=' ')\n",
    "    else:\n",
    "        print('Такая полка уже существует.', end=' ')\n",
    "    print('Текущий перечень полок:', ', '.join(map(str, directories)))"
   ]
  },
  {
   "cell_type": "code",
   "execution_count": 74,
   "id": "29293a40",
   "metadata": {},
   "outputs": [],
   "source": [
    "def delete_shelf (number):\n",
    "    if number in directories.keys():\n",
    "        if directories[number] == []:\n",
    "            dict.popitem(directories)\n",
    "            print('Полка удалена.', end=' ')\n",
    "        else:\n",
    "            print('На полке есть документа, удалите их перед удалением полки.', end=' ')\n",
    "    else:\n",
    "        print('Такой полки не существует.', end=' ')\n",
    "    print('Текущий перечень полок:', ', '.join(map(str, directories)))"
   ]
  },
  {
   "cell_type": "code",
   "execution_count": 77,
   "id": "7a9e4bd4",
   "metadata": {},
   "outputs": [
    {
     "name": "stdout",
     "output_type": "stream",
     "text": [
      "Введите команду:\n",
      "p\n",
      "Введите номер документа:\n",
      "10006\n",
      "Владелец документа: Аристарх Павлов\n",
      "\n",
      "Введите команду:\n",
      "p\n",
      "Введите номер документа:\n",
      "111\n",
      "Документ не найден в базе\n",
      "\n",
      "Введите команду:\n",
      "s\n",
      "Введите номер документа:\n",
      "10006\n",
      "Документ хранится на полке: 2\n",
      "\n",
      "Введите команду:\n",
      "s\n",
      "Введите номер документа:\n",
      "111\n",
      "Документ не найден в базе\n",
      "\n",
      "Введите команду:\n",
      "l\n",
      "№: 2207 876234, тип: passport, владелец: Василий Гупкин, полка хранения: 1\n",
      "№: 11-2, тип: invoice, владелец: Геннадий Покемонов, полка хранения: 1\n",
      "№: 10006, тип: insurance, владелец: Аристарх Павлов, полка хранения: 2\n",
      "\n",
      "Введите команду:\n",
      "ads\n",
      "Введите номер полки:\n",
      "1\n",
      "Такая полка уже существует. Текущий перечень полок: 1, 2, 3\n",
      "\n",
      "Введите команду:\n",
      "ads\n",
      "Введите номер полки:\n",
      "4\n",
      "Полка добавлена. Текущий перечень полок: 1, 2, 3, 4\n",
      "\n",
      "Введите команду:\n",
      "ds\n",
      "Введите номер полки:\n",
      "4\n",
      "Полка удалена. Текущий перечень полок: 1, 2, 3\n",
      "\n",
      "Введите команду:\n",
      "ds\n",
      "Введите номер полки:\n",
      "1\n",
      "На полке есть документа, удалите их перед удалением полки. Текущий перечень полок: 1, 2, 3\n",
      "\n",
      "Введите команду:\n",
      "ds\n",
      "Введите номер полки:\n",
      "10\n",
      "Такой полки не существует. Текущий перечень полок: 1, 2, 3\n",
      "\n",
      "Введите команду:\n",
      "lalala\n",
      "Неверная команда!\n",
      "\n",
      "Введите команду:\n",
      "q\n"
     ]
    }
   ],
   "source": [
    "while True:\n",
    "    quer = input('Введите команду:\\n')\n",
    "    \n",
    "    if quer == 'p':\n",
    "        temp = user(input('Введите номер документа:\\n'))\n",
    "        if temp:\n",
    "            print('Владелец документа:', temp)\n",
    "        else:\n",
    "            print('Документ не найден в базе')\n",
    "    \n",
    "    elif quer == 's':\n",
    "        temp = shelf(input('Введите номер документа:\\n'))\n",
    "        if temp:\n",
    "            print('Документ хранится на полке:', temp)\n",
    "        else:\n",
    "            print('Документ не найден в базе')\n",
    "        \n",
    "    elif quer == 'l':\n",
    "        info()\n",
    "    \n",
    "    elif quer == 'ads':\n",
    "        new_shelf(input('Введите номер полки:\\n'))\n",
    "        \n",
    "    elif quer == 'ds':\n",
    "        delete_shelf(input('Введите номер полки:\\n'))\n",
    "    \n",
    "    elif quer == 'q':\n",
    "        break\n",
    "    else:\n",
    "        print('Неверная команда!')\n",
    "    \n",
    "    print(end='\\n')"
   ]
  }
 ],
 "metadata": {
  "kernelspec": {
   "display_name": "Python 3",
   "language": "python",
   "name": "python3"
  },
  "language_info": {
   "codemirror_mode": {
    "name": "ipython",
    "version": 3
   },
   "file_extension": ".py",
   "mimetype": "text/x-python",
   "name": "python",
   "nbconvert_exporter": "python",
   "pygments_lexer": "ipython3",
   "version": "3.9.4"
  }
 },
 "nbformat": 4,
 "nbformat_minor": 5
}
