{
 "cells": [
  {
   "cell_type": "code",
   "execution_count": 36,
   "id": "b88c8159",
   "metadata": {},
   "outputs": [],
   "source": [
    "from statistics import mean"
   ]
  },
  {
   "cell_type": "code",
   "execution_count": 3,
   "id": "4c916c31",
   "metadata": {},
   "outputs": [],
   "source": [
    "countries_temperature = [\n",
    "['Thailand', [75.2, 77, 78.8, 73.4, 68, 75.2, 77]],\n",
    "['Germany',  [57.2, 55.4, 59, 59, 53.6]],\n",
    "['Russia',   [35.6, 37.4, 39.2, 41, 42.8, 39.2, 35.6]],\n",
    "['Poland',   [50, 50, 53.6, 57.2, 55.4, 55.4]]\n",
    "]"
   ]
  },
  {
   "cell_type": "code",
   "execution_count": 42,
   "id": "3ccdf34b",
   "metadata": {},
   "outputs": [],
   "source": [
    "d_countries_temperature = {}\n",
    "for elem in countries_temperature:\n",
    "    d_countries_temperature.setdefault(elem[0], elem[1])"
   ]
  },
  {
   "cell_type": "code",
   "execution_count": 44,
   "id": "21f2704e",
   "metadata": {},
   "outputs": [
    {
     "name": "stdout",
     "output_type": "stream",
     "text": [
      "Средняя температура в странах:\n",
      "Thailand - 23.9 C\n",
      "Germany - 13.8 C\n",
      "Russia - 3.7 C\n",
      "Poland - 12.0 C\n"
     ]
    }
   ],
   "source": [
    "print('Средняя температура в странах:')\n",
    "for key, tlist in d_countries_temperature.items():\n",
    "    temp = round((mean(tlist) - 32) * 0.556, 1)\n",
    "    print(key, '-', temp, 'C')"
   ]
  }
 ],
 "metadata": {
  "kernelspec": {
   "display_name": "Python 3",
   "language": "python",
   "name": "python3"
  },
  "language_info": {
   "codemirror_mode": {
    "name": "ipython",
    "version": 3
   },
   "file_extension": ".py",
   "mimetype": "text/x-python",
   "name": "python",
   "nbconvert_exporter": "python",
   "pygments_lexer": "ipython3",
   "version": "3.9.4"
  }
 },
 "nbformat": 4,
 "nbformat_minor": 5
}
