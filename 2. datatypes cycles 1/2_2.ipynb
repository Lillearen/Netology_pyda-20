{
 "cells": [
  {
   "cell_type": "code",
   "execution_count": 20,
   "id": "f6c1c555",
   "metadata": {},
   "outputs": [
    {
     "name": "stdout",
     "output_type": "stream",
     "text": [
      "Введите число:\n",
      "5\n",
      "Введите число:\n",
      "2\n",
      "Введите число:\n",
      "8\n",
      "Введите число:\n",
      "1\n",
      "Введите число:\n",
      "0\n"
     ]
    }
   ],
   "source": [
    "data = []\n",
    "temp = []\n",
    "while True:\n",
    "    print('Введите число:')\n",
    "    temp = list(input())\n",
    "    data = data + temp\n",
    "    if temp == ['0']:\n",
    "        break"
   ]
  },
  {
   "cell_type": "code",
   "execution_count": 21,
   "id": "b4303d74",
   "metadata": {},
   "outputs": [
    {
     "name": "stdout",
     "output_type": "stream",
     "text": [
      "Результат:\n",
      "16\n"
     ]
    }
   ],
   "source": [
    "summ = 0\n",
    "for i in data:\n",
    "    summ += int(i)\n",
    "print('Результат:\\n' + str(summ))"
   ]
  }
 ],
 "metadata": {
  "kernelspec": {
   "display_name": "Python 3",
   "language": "python",
   "name": "python3"
  },
  "language_info": {
   "codemirror_mode": {
    "name": "ipython",
    "version": 3
   },
   "file_extension": ".py",
   "mimetype": "text/x-python",
   "name": "python",
   "nbconvert_exporter": "python",
   "pygments_lexer": "ipython3",
   "version": "3.9.4"
  }
 },
 "nbformat": 4,
 "nbformat_minor": 5
}
