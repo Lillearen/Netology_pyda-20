{
 "cells": [
  {
   "cell_type": "code",
   "execution_count": 14,
   "id": "978f3032",
   "metadata": {},
   "outputs": [
    {
     "name": "stdout",
     "output_type": "stream",
     "text": [
      "Введите слово:\n",
      "netology\n"
     ]
    }
   ],
   "source": [
    "print('Введите слово:')\n",
    "word = str(input())"
   ]
  },
  {
   "cell_type": "code",
   "execution_count": 15,
   "id": "ce8e1bc9",
   "metadata": {},
   "outputs": [
    {
     "name": "stdout",
     "output_type": "stream",
     "text": [
      "ol\n"
     ]
    }
   ],
   "source": [
    "if len(word) % 2 == 0:\n",
    "    print(word[int(len(word)/2 - 1)] + word[int(len(word)/2)])\n",
    "else:\n",
    "    print(word[int(len(word)/2)])"
   ]
  }
 ],
 "metadata": {
  "kernelspec": {
   "display_name": "Python 3",
   "language": "python",
   "name": "python3"
  },
  "language_info": {
   "codemirror_mode": {
    "name": "ipython",
    "version": 3
   },
   "file_extension": ".py",
   "mimetype": "text/x-python",
   "name": "python",
   "nbconvert_exporter": "python",
   "pygments_lexer": "ipython3",
   "version": "3.9.4"
  }
 },
 "nbformat": 4,
 "nbformat_minor": 5
}
