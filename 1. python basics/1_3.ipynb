{
 "cells": [
  {
   "cell_type": "code",
   "execution_count": 3,
   "id": "64f1fbbf",
   "metadata": {},
   "outputs": [],
   "source": [
    "months = {'январь':1, 'февраль':2, 'март':3, 'апрель':4, 'май':5, 'июнь':6,\n",
    "          'июль':7, 'август':8, 'сентябрь':9, 'октябрь':10, 'ноябрь':11, 'декабрь':12}"
   ]
  },
  {
   "cell_type": "code",
   "execution_count": 4,
   "id": "8cc3ca5b",
   "metadata": {},
   "outputs": [
    {
     "name": "stdout",
     "output_type": "stream",
     "text": [
      "Введите день:\n",
      "4\n"
     ]
    }
   ],
   "source": [
    "print ('Введите день:')\n",
    "day = int (input ())"
   ]
  },
  {
   "cell_type": "code",
   "execution_count": 13,
   "id": "72938f48",
   "metadata": {},
   "outputs": [
    {
     "name": "stdout",
     "output_type": "stream",
     "text": [
      "Введите месяц:\n",
      "Январь\n",
      "Введите месяц:\n",
      "январь\n"
     ]
    }
   ],
   "source": [
    "while True:\n",
    "    print ('Введите месяц:')\n",
    "    month = input ()\n",
    "    if months.get (month) != None:\n",
    "        break"
   ]
  },
  {
   "cell_type": "code",
   "execution_count": 17,
   "id": "d683843c",
   "metadata": {},
   "outputs": [
    {
     "name": "stdout",
     "output_type": "stream",
     "text": [
      "Ваш знак зодиака:\n",
      "Козерог\n"
     ]
    }
   ],
   "source": [
    "print('Ваш знак зодиака:')\n",
    "\n",
    "if   months.get (month) == 1: #январь\n",
    "    if day >= 21:\n",
    "        print ('Водолей')\n",
    "    else:\n",
    "        print ('Козерог')\n",
    "\n",
    "elif months.get (month) == 2: #февраль\n",
    "    if day >= 20:\n",
    "        print ('Рыбы')\n",
    "    else:\n",
    "        print ('Водолей')\n",
    "\n",
    "elif months.get (month) == 3: #март\n",
    "    if day >= 21:\n",
    "        print ('Овен')\n",
    "    else:\n",
    "        print ('Рыбы')\n",
    "\n",
    "elif months.get (month) == 4: #апрель\n",
    "    if day >= 21:\n",
    "        print ('Телец')\n",
    "    else:\n",
    "        print ('Овен')\n",
    "\n",
    "elif months.get (month) == 5: #май\n",
    "    if day >= 22:\n",
    "        print ('Близнецы')\n",
    "    else:\n",
    "        print ('Телец')\n",
    "\n",
    "elif months.get (month) == 6: #июнь\n",
    "    if day >= 22:\n",
    "        print ('Рак')\n",
    "    else:\n",
    "        print ('Блзинецы')\n",
    "\n",
    "elif months.get (month) == 7: #июль\n",
    "    if day >= 23:\n",
    "        print ('Лев')\n",
    "    else:\n",
    "        print ('Рак')\n",
    "\n",
    "elif months.get (month) == 8: #август\n",
    "    if day >= 22:\n",
    "        print ('Дева')\n",
    "    else:\n",
    "        print ('Лев')\n",
    "\n",
    "elif months.get (month) == 9: #сентябрь\n",
    "    if day >= 24:\n",
    "        print ('Весы')\n",
    "    else:\n",
    "        print ('Дева')\n",
    "\n",
    "elif months.get (month) == 10: #октябрь\n",
    "    if day >= 24:\n",
    "        print ('Скорпион')\n",
    "    else:\n",
    "        print ('Весы')\n",
    "\n",
    "elif months.get (month) == 11: #ноябрь\n",
    "    if day >= 23:\n",
    "        print ('Стрелец')\n",
    "    else:\n",
    "        print ('Скорпион')\n",
    "\n",
    "elif months.get (month) == 12: #декабрь\n",
    "    if day >= 23:\n",
    "        print ('Козерог')\n",
    "    else:\n",
    "        print ('Стрелец')\n",
    "else:\n",
    "    print('Error')"
   ]
  }
 ],
 "metadata": {
  "kernelspec": {
   "display_name": "Python 3",
   "language": "python",
   "name": "python3"
  },
  "language_info": {
   "codemirror_mode": {
    "name": "ipython",
    "version": 3
   },
   "file_extension": ".py",
   "mimetype": "text/x-python",
   "name": "python",
   "nbconvert_exporter": "python",
   "pygments_lexer": "ipython3",
   "version": "3.9.4"
  }
 },
 "nbformat": 4,
 "nbformat_minor": 5
}
