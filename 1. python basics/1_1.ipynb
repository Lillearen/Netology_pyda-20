{
 "cells": [
  {
   "cell_type": "code",
   "execution_count": 3,
   "id": "e64408bb",
   "metadata": {},
   "outputs": [
    {
     "name": "stdout",
     "output_type": "stream",
     "text": [
      "lalala\n"
     ]
    }
   ],
   "source": [
    "phrase_1 = input()"
   ]
  },
  {
   "cell_type": "code",
   "execution_count": 4,
   "id": "72e71557",
   "metadata": {},
   "outputs": [
    {
     "name": "stdout",
     "output_type": "stream",
     "text": [
      "lalaland\n"
     ]
    }
   ],
   "source": [
    "phrase_2 = input()"
   ]
  },
  {
   "cell_type": "code",
   "execution_count": 6,
   "id": "d7708afb",
   "metadata": {},
   "outputs": [
    {
     "name": "stdout",
     "output_type": "stream",
     "text": [
      "Фраза 2 длиннее фразы 1\n"
     ]
    }
   ],
   "source": [
    "if len (phrase_1) > len (phrase_2):\n",
    "    print ('Фраза 1 длиннее фразы 2')\n",
    "elif len (phrase_2) > len (phrase_1):\n",
    "    print ('Фраза 2 длиннее фразы 1')\n",
    "else:\n",
    "    print ('Фразы 1 и 2 одинаковой длины')"
   ]
  }
 ],
 "metadata": {
  "kernelspec": {
   "display_name": "Python 3",
   "language": "python",
   "name": "python3"
  },
  "language_info": {
   "codemirror_mode": {
    "name": "ipython",
    "version": 3
   },
   "file_extension": ".py",
   "mimetype": "text/x-python",
   "name": "python",
   "nbconvert_exporter": "python",
   "pygments_lexer": "ipython3",
   "version": "3.9.4"
  }
 },
 "nbformat": 4,
 "nbformat_minor": 5
}
