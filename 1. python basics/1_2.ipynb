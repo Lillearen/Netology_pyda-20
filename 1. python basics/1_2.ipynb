{
 "cells": [
  {
   "cell_type": "code",
   "execution_count": 16,
   "id": "bfb637ad",
   "metadata": {},
   "outputs": [
    {
     "name": "stdout",
     "output_type": "stream",
     "text": [
      "2400\n"
     ]
    }
   ],
   "source": [
    "year = int (input ())"
   ]
  },
  {
   "cell_type": "code",
   "execution_count": 18,
   "id": "63ffb95b",
   "metadata": {
    "scrolled": true
   },
   "outputs": [
    {
     "name": "stdout",
     "output_type": "stream",
     "text": [
      "Год високосный\n"
     ]
    }
   ],
   "source": [
    "if year % 100 == 0:\n",
    "    if year % 400 == 0:\n",
    "        print ('Год високосный')\n",
    "    else:\n",
    "        print ('Год не високосный')\n",
    "elif year % 4 == 0:\n",
    "    print ('Год високосный')\n",
    "else:\n",
    "    print ('Год не високосный')"
   ]
  }
 ],
 "metadata": {
  "kernelspec": {
   "display_name": "Python 3",
   "language": "python",
   "name": "python3"
  },
  "language_info": {
   "codemirror_mode": {
    "name": "ipython",
    "version": 3
   },
   "file_extension": ".py",
   "mimetype": "text/x-python",
   "name": "python",
   "nbconvert_exporter": "python",
   "pygments_lexer": "ipython3",
   "version": "3.9.4"
  }
 },
 "nbformat": 4,
 "nbformat_minor": 5
}
