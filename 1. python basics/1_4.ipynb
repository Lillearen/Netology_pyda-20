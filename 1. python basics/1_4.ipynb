{
 "cells": [
  {
   "cell_type": "code",
   "execution_count": 2,
   "id": "9309cb2a",
   "metadata": {},
   "outputs": [
    {
     "name": "stdout",
     "output_type": "stream",
     "text": [
      "Введите ширину:\n",
      "10\n"
     ]
    }
   ],
   "source": [
    "print ('Введите ширину:')\n",
    "w = int (input ())"
   ]
  },
  {
   "cell_type": "code",
   "execution_count": 3,
   "id": "7f06701b",
   "metadata": {},
   "outputs": [
    {
     "name": "stdout",
     "output_type": "stream",
     "text": [
      "Введите длину:\n",
      "205\n"
     ]
    }
   ],
   "source": [
    "print ('Введите длину:')\n",
    "l = int (input ())"
   ]
  },
  {
   "cell_type": "code",
   "execution_count": 4,
   "id": "be122e4b",
   "metadata": {},
   "outputs": [
    {
     "name": "stdout",
     "output_type": "stream",
     "text": [
      "Введите высоту\n",
      "20\n"
     ]
    }
   ],
   "source": [
    "print ('Введите высоту')\n",
    "h = int (input ())"
   ]
  },
  {
   "cell_type": "code",
   "execution_count": 6,
   "id": "488692a0",
   "metadata": {},
   "outputs": [
    {
     "name": "stdout",
     "output_type": "stream",
     "text": [
      "Упаковка для лыж\n"
     ]
    }
   ],
   "source": [
    "if w < 15 and l < 15 and h < 15:\n",
    "    print ('Коробка №1')\n",
    "elif l > 200:\n",
    "    print ('Упаковка для лыж')\n",
    "elif 15 < w < 50 or 15 < l < 50 or 15 < h < 50:\n",
    "    print ('Коробка №2')\n",
    "else:\n",
    "    print ('Стандартная коробка №3')"
   ]
  }
 ],
 "metadata": {
  "kernelspec": {
   "display_name": "Python 3",
   "language": "python",
   "name": "python3"
  },
  "language_info": {
   "codemirror_mode": {
    "name": "ipython",
    "version": 3
   },
   "file_extension": ".py",
   "mimetype": "text/x-python",
   "name": "python",
   "nbconvert_exporter": "python",
   "pygments_lexer": "ipython3",
   "version": "3.9.4"
  }
 },
 "nbformat": 4,
 "nbformat_minor": 5
}
